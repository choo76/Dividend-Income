{
 "cells": [
  {
   "cell_type": "markdown",
   "metadata": {},
   "source": [
    "# Dividend Income Analysis\n",
    "Calculate historical yield for dividend income-generating stocks \n",
    "\n",
    "[2017 Dividend Aristrocrats List](https://www.simplysafedividends.com/dividend-aristocrats/)\n",
    "\n",
    "[25+ Years of Dividend Increasing Stocks](http://www.dividend.com/dividend-stocks/25-year-dividend-increasing-stocks.php#stocks&sort_name=symbol&sort_order=asc&page=1)"
   ]
  },
  {
   "cell_type": "code",
   "execution_count": 4,
   "metadata": {},
   "outputs": [],
   "source": [
    "library(xts)\n",
    "library(zoo)\n",
    "library(TTR)\n",
    "library(quantmod)\n",
    "setwd('/Users/jtan/Documents/Investment/Dividend-Income')"
   ]
  },
  {
   "cell_type": "code",
   "execution_count": 5,
   "metadata": {
    "collapsed": true
   },
   "outputs": [],
   "source": [
    "STOCK_LIST <- c('BDX')\n",
    "START_DATE <- '2015-01-01'\n",
    "END_DATE <- '2017-01-01'\n",
    "\n",
    "start_date_lag <- function(start_date, num_year) {\n",
    "    new_date <- as.POSIXlt(as.Date(start_date))\n",
    "    new_date$year <- new_date$year - num_year\n",
    "    new_date <- as.Date(new_date)\n",
    "} "
   ]
  },
  {
   "cell_type": "code",
   "execution_count": 8,
   "metadata": {},
   "outputs": [
    {
     "name": "stdout",
     "output_type": "stream",
     "text": [
      "Processing BDX \n"
     ]
    }
   ],
   "source": [
    "for(i in 1:length(STOCK_LIST)) {\n",
    "\n",
    "    cat('Processing', STOCK_LIST[i],'\\n')\n",
    "\n",
    "    # get pricing data\n",
    "    data.price <- getSymbols(STOCK_LIST[i], from=START_DATE, to=END_DATE, auto.assign=FALSE)\n",
    "    data.price <- data.frame(Date = index(data.price), data.price, row.names=NULL)\n",
    "    colnames(data.price) <- c('Date','Open','High','Low','Close','Volume','Adjusted')\n",
    "    data.price <- data.price[order(data.price$Date, decreasing=TRUE),]\n",
    "    data.price$Symbol <- STOCK_LIST[i]\n",
    "\n",
    "    # get dividend data\n",
    "    temp <- getDividends(STOCK_LIST[i], from=start_date_lag(START_DATE, 1), to=END_DATE, auto.assign=FALSE)\n",
    "    if(nrow(temp) == 0) {\n",
    "        cat('Skipping', STOCK_LIST[i],'\\n')\n",
    "        next\n",
    "    }\n",
    "    data.div.quarter <- data.frame(Date = index(temp), temp, row.names=NULL)\n",
    "    colnames(data.div.quarter) <- c('Date','Dividend')\n",
    "    # reverse sort and do moving sum\n",
    "    data.div.quarter <- data.div.quarter[order(data.div.quarter$Date, decreasing=TRUE),]  \n",
    "    data.div.annual <- data.frame(matrix(NA, nrow=nrow(data.div.quarter)-3, ncol=2)) \n",
    "    colnames(data.div.annual) <- c('Date','Dividend')\n",
    "    data.div.annual$Date <- head(data.div.quarter$Date, -3)\n",
    "    data.div.annual$Dividend <- rollapply(data.div.quarter$Dividend, width = 4, by = 1, FUN = sum, align = \"left\")\n",
    "    data.div.annual$Symbol <- STOCK_LIST[i]\n",
    "    \n",
    "    # merge/combine data\n",
    "    data.combine <- merge(data.price, data.div.annual, by=c('Symbol','Date'), all=TRUE)\n",
    "    # sort increasing to allow correct derivation of dividend\n",
    "    data.combine <- data.combine[order(data.combine$Date),]\n",
    "    if (is.na(data.combine$Dividend[1])) \n",
    "        data.combine$Dividend[1] <- tail(data.div.annual$Dividend, n=1)\n",
    "    data.combine$Dividend <- na.locf(data.combine$Dividend)\n",
    "    data.combine <- na.omit(data.combine)    \n",
    "}"
   ]
  },
  {
   "cell_type": "code",
   "execution_count": 7,
   "metadata": {
    "collapsed": true
   },
   "outputs": [],
   "source": [
    "write.table(data.combine, file = 'Dividend.csv', sep = \",\", col.names = TRUE, row.names = FALSE, quote = FALSE)"
   ]
  }
 ],
 "metadata": {
  "kernelspec": {
   "display_name": "R",
   "language": "R",
   "name": "ir"
  },
  "language_info": {
   "codemirror_mode": "r",
   "file_extension": ".r",
   "mimetype": "text/x-r-source",
   "name": "R",
   "pygments_lexer": "r",
   "version": "3.4.2"
  }
 },
 "nbformat": 4,
 "nbformat_minor": 2
}
